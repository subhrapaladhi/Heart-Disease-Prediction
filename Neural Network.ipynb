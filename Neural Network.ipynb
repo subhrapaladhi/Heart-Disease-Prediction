{
  "nbformat": 4,
  "nbformat_minor": 0,
  "metadata": {
    "kernelspec": {
      "display_name": "Python 3",
      "language": "python",
      "name": "python3"
    },
    "language_info": {
      "codemirror_mode": {
        "name": "ipython",
        "version": 3
      },
      "file_extension": ".py",
      "mimetype": "text/x-python",
      "name": "python",
      "nbconvert_exporter": "python",
      "pygments_lexer": "ipython3",
      "version": "3.8.3"
    },
    "colab": {
      "name": "Neural Network.ipynb",
      "provenance": [],
      "collapsed_sections": []
    },
    "accelerator": "GPU"
  },
  "cells": [
    {
      "cell_type": "code",
      "metadata": {
        "id": "PZuBT-CdhbG-"
      },
      "source": [
        "import pandas as pd\n",
        "import numpy as np\n",
        "from sklearn.metrics import r2_score\n",
        "from matplotlib import pyplot as plt\n",
        "\n",
        "%matplotlib inline"
      ],
      "execution_count": 24,
      "outputs": []
    },
    {
      "cell_type": "code",
      "metadata": {
        "id": "vj93XE5jhbHE",
        "outputId": "b77315dd-1406-4052-be58-94a0d60d0da8",
        "colab": {
          "base_uri": "https://localhost:8080/",
          "height": 198
        }
      },
      "source": [
        "dataset = pd.read_csv(\"heart.csv\")\n",
        "dataset.head()"
      ],
      "execution_count": 25,
      "outputs": [
        {
          "output_type": "execute_result",
          "data": {
            "text/html": [
              "<div>\n",
              "<style scoped>\n",
              "    .dataframe tbody tr th:only-of-type {\n",
              "        vertical-align: middle;\n",
              "    }\n",
              "\n",
              "    .dataframe tbody tr th {\n",
              "        vertical-align: top;\n",
              "    }\n",
              "\n",
              "    .dataframe thead th {\n",
              "        text-align: right;\n",
              "    }\n",
              "</style>\n",
              "<table border=\"1\" class=\"dataframe\">\n",
              "  <thead>\n",
              "    <tr style=\"text-align: right;\">\n",
              "      <th></th>\n",
              "      <th>age</th>\n",
              "      <th>sex</th>\n",
              "      <th>cp</th>\n",
              "      <th>trestbps</th>\n",
              "      <th>chol</th>\n",
              "      <th>fbs</th>\n",
              "      <th>restecg</th>\n",
              "      <th>thalach</th>\n",
              "      <th>exang</th>\n",
              "      <th>oldpeak</th>\n",
              "      <th>slope</th>\n",
              "      <th>ca</th>\n",
              "      <th>thal</th>\n",
              "      <th>target</th>\n",
              "    </tr>\n",
              "  </thead>\n",
              "  <tbody>\n",
              "    <tr>\n",
              "      <th>0</th>\n",
              "      <td>52</td>\n",
              "      <td>1</td>\n",
              "      <td>0</td>\n",
              "      <td>125</td>\n",
              "      <td>212</td>\n",
              "      <td>0</td>\n",
              "      <td>1</td>\n",
              "      <td>168</td>\n",
              "      <td>0</td>\n",
              "      <td>1.0</td>\n",
              "      <td>2</td>\n",
              "      <td>2</td>\n",
              "      <td>3</td>\n",
              "      <td>0</td>\n",
              "    </tr>\n",
              "    <tr>\n",
              "      <th>1</th>\n",
              "      <td>53</td>\n",
              "      <td>1</td>\n",
              "      <td>0</td>\n",
              "      <td>140</td>\n",
              "      <td>203</td>\n",
              "      <td>1</td>\n",
              "      <td>0</td>\n",
              "      <td>155</td>\n",
              "      <td>1</td>\n",
              "      <td>3.1</td>\n",
              "      <td>0</td>\n",
              "      <td>0</td>\n",
              "      <td>3</td>\n",
              "      <td>0</td>\n",
              "    </tr>\n",
              "    <tr>\n",
              "      <th>2</th>\n",
              "      <td>70</td>\n",
              "      <td>1</td>\n",
              "      <td>0</td>\n",
              "      <td>145</td>\n",
              "      <td>174</td>\n",
              "      <td>0</td>\n",
              "      <td>1</td>\n",
              "      <td>125</td>\n",
              "      <td>1</td>\n",
              "      <td>2.6</td>\n",
              "      <td>0</td>\n",
              "      <td>0</td>\n",
              "      <td>3</td>\n",
              "      <td>0</td>\n",
              "    </tr>\n",
              "    <tr>\n",
              "      <th>3</th>\n",
              "      <td>61</td>\n",
              "      <td>1</td>\n",
              "      <td>0</td>\n",
              "      <td>148</td>\n",
              "      <td>203</td>\n",
              "      <td>0</td>\n",
              "      <td>1</td>\n",
              "      <td>161</td>\n",
              "      <td>0</td>\n",
              "      <td>0.0</td>\n",
              "      <td>2</td>\n",
              "      <td>1</td>\n",
              "      <td>3</td>\n",
              "      <td>0</td>\n",
              "    </tr>\n",
              "    <tr>\n",
              "      <th>4</th>\n",
              "      <td>62</td>\n",
              "      <td>0</td>\n",
              "      <td>0</td>\n",
              "      <td>138</td>\n",
              "      <td>294</td>\n",
              "      <td>1</td>\n",
              "      <td>1</td>\n",
              "      <td>106</td>\n",
              "      <td>0</td>\n",
              "      <td>1.9</td>\n",
              "      <td>1</td>\n",
              "      <td>3</td>\n",
              "      <td>2</td>\n",
              "      <td>0</td>\n",
              "    </tr>\n",
              "  </tbody>\n",
              "</table>\n",
              "</div>"
            ],
            "text/plain": [
              "   age  sex  cp  trestbps  chol  fbs  ...  exang  oldpeak  slope  ca  thal  target\n",
              "0   52    1   0       125   212    0  ...      0      1.0      2   2     3       0\n",
              "1   53    1   0       140   203    1  ...      1      3.1      0   0     3       0\n",
              "2   70    1   0       145   174    0  ...      1      2.6      0   0     3       0\n",
              "3   61    1   0       148   203    0  ...      0      0.0      2   1     3       0\n",
              "4   62    0   0       138   294    1  ...      0      1.9      1   3     2       0\n",
              "\n",
              "[5 rows x 14 columns]"
            ]
          },
          "metadata": {
            "tags": []
          },
          "execution_count": 25
        }
      ]
    },
    {
      "cell_type": "code",
      "metadata": {
        "id": "QY59HnGrhbHJ"
      },
      "source": [
        "X = dataset.drop('target',axis=1)\n",
        "y = dataset['target']"
      ],
      "execution_count": 26,
      "outputs": []
    },
    {
      "cell_type": "code",
      "metadata": {
        "id": "n_mEvURAhbHQ"
      },
      "source": [
        "from sklearn.model_selection import train_test_split"
      ],
      "execution_count": 27,
      "outputs": []
    },
    {
      "cell_type": "code",
      "metadata": {
        "id": "0J9U6lkIhbHU"
      },
      "source": [
        "X_train, X_test, y_train, y_test = train_test_split(X, y, test_size=0.27, random_state=42)"
      ],
      "execution_count": 28,
      "outputs": []
    },
    {
      "cell_type": "code",
      "metadata": {
        "id": "MVJZxxxrhbHY"
      },
      "source": [
        "import tensorflow as tf\n",
        "import keras\n",
        "from tensorflow.keras.callbacks import ModelCheckpoint"
      ],
      "execution_count": 29,
      "outputs": []
    },
    {
      "cell_type": "code",
      "metadata": {
        "id": "J-bNzsDghbHc",
        "outputId": "77fc2b3e-2c45-407b-c194-e4175097c57e",
        "colab": {
          "base_uri": "https://localhost:8080/"
        }
      },
      "source": [
        "X_train.shape, X_test.shape"
      ],
      "execution_count": 30,
      "outputs": [
        {
          "output_type": "execute_result",
          "data": {
            "text/plain": [
              "((748, 13), (277, 13))"
            ]
          },
          "metadata": {
            "tags": []
          },
          "execution_count": 30
        }
      ]
    },
    {
      "cell_type": "code",
      "metadata": {
        "id": "79A9EdiAhbHh",
        "outputId": "6436cffa-6940-482b-9153-9e5b0ed821ec",
        "colab": {
          "base_uri": "https://localhost:8080/"
        }
      },
      "source": [
        "model = keras.Sequential([\n",
        "    keras.layers.Dense(50,input_shape=(13,), activation='relu'),\n",
        "    keras.layers.Dense(35, activation='relu'),\n",
        "    keras.layers.Dense(25, activation='relu'),\n",
        "    keras.layers.Dense(15, activation='relu'),\n",
        "    keras.layers.Dense(7, activation='relu'),\n",
        "    keras.layers.Dense(1, activation='sigmoid')\n",
        "])\n",
        "\n",
        "mc = ModelCheckpoint('best_model.h5', monitor='accuracy', mode='max', verbose=1, save_best_only=True)\n",
        "\n",
        "model.compile(loss='binary_crossentropy', \n",
        "    optimizer='adam', \n",
        "    metrics=['accuracy']\n",
        ")\n",
        "\n",
        "# mini batch gradient descent\n",
        "r = model.fit(X_train,y_train,epochs=50, batch_size=2,callbacks=[mc])"
      ],
      "execution_count": 31,
      "outputs": [
        {
          "output_type": "stream",
          "text": [
            "Epoch 1/50\n",
            "352/374 [===========================>..] - ETA: 0s - loss: 0.6696 - accuracy: 0.5909\n",
            "Epoch 00001: accuracy improved from -inf to 0.59893, saving model to best_model.h5\n",
            "374/374 [==============================] - 1s 2ms/step - loss: 0.6643 - accuracy: 0.5989\n",
            "Epoch 2/50\n",
            "349/374 [==========================>...] - ETA: 0s - loss: 0.6541 - accuracy: 0.6633\n",
            "Epoch 00002: accuracy improved from 0.59893 to 0.66845, saving model to best_model.h5\n",
            "374/374 [==============================] - 1s 2ms/step - loss: 0.6500 - accuracy: 0.6684\n",
            "Epoch 3/50\n",
            "370/374 [============================>.] - ETA: 0s - loss: 0.6051 - accuracy: 0.6919\n",
            "Epoch 00003: accuracy improved from 0.66845 to 0.69251, saving model to best_model.h5\n",
            "374/374 [==============================] - 1s 2ms/step - loss: 0.6051 - accuracy: 0.6925\n",
            "Epoch 4/50\n",
            "351/374 [===========================>..] - ETA: 0s - loss: 0.6100 - accuracy: 0.6909\n",
            "Epoch 00004: accuracy did not improve from 0.69251\n",
            "374/374 [==============================] - 1s 2ms/step - loss: 0.6106 - accuracy: 0.6912\n",
            "Epoch 5/50\n",
            "371/374 [============================>.] - ETA: 0s - loss: 0.5985 - accuracy: 0.6968\n",
            "Epoch 00005: accuracy improved from 0.69251 to 0.69786, saving model to best_model.h5\n",
            "374/374 [==============================] - 1s 2ms/step - loss: 0.5985 - accuracy: 0.6979\n",
            "Epoch 6/50\n",
            "371/374 [============================>.] - ETA: 0s - loss: 0.6175 - accuracy: 0.7089\n",
            "Epoch 00006: accuracy improved from 0.69786 to 0.70722, saving model to best_model.h5\n",
            "374/374 [==============================] - 1s 2ms/step - loss: 0.6181 - accuracy: 0.7072\n",
            "Epoch 7/50\n",
            "372/374 [============================>.] - ETA: 0s - loss: 0.5959 - accuracy: 0.6989\n",
            "Epoch 00007: accuracy did not improve from 0.70722\n",
            "374/374 [==============================] - 1s 2ms/step - loss: 0.5952 - accuracy: 0.6992\n",
            "Epoch 8/50\n",
            "350/374 [===========================>..] - ETA: 0s - loss: 0.5694 - accuracy: 0.7229\n",
            "Epoch 00008: accuracy improved from 0.70722 to 0.71925, saving model to best_model.h5\n",
            "374/374 [==============================] - 1s 2ms/step - loss: 0.5728 - accuracy: 0.7193\n",
            "Epoch 9/50\n",
            "351/374 [===========================>..] - ETA: 0s - loss: 0.5808 - accuracy: 0.7080\n",
            "Epoch 00009: accuracy did not improve from 0.71925\n",
            "374/374 [==============================] - 1s 2ms/step - loss: 0.5774 - accuracy: 0.7139\n",
            "Epoch 10/50\n",
            "361/374 [===========================>..] - ETA: 0s - loss: 0.5507 - accuracy: 0.7147\n",
            "Epoch 00010: accuracy did not improve from 0.71925\n",
            "374/374 [==============================] - 1s 2ms/step - loss: 0.5484 - accuracy: 0.7126\n",
            "Epoch 11/50\n",
            "355/374 [===========================>..] - ETA: 0s - loss: 0.5179 - accuracy: 0.7366\n",
            "Epoch 00011: accuracy improved from 0.71925 to 0.73396, saving model to best_model.h5\n",
            "374/374 [==============================] - 1s 2ms/step - loss: 0.5195 - accuracy: 0.7340\n",
            "Epoch 12/50\n",
            "351/374 [===========================>..] - ETA: 0s - loss: 0.5378 - accuracy: 0.7422\n",
            "Epoch 00012: accuracy improved from 0.73396 to 0.74064, saving model to best_model.h5\n",
            "374/374 [==============================] - 1s 2ms/step - loss: 0.5392 - accuracy: 0.7406\n",
            "Epoch 13/50\n",
            "364/374 [============================>.] - ETA: 0s - loss: 0.4968 - accuracy: 0.7541\n",
            "Epoch 00013: accuracy improved from 0.74064 to 0.75267, saving model to best_model.h5\n",
            "374/374 [==============================] - 1s 2ms/step - loss: 0.5004 - accuracy: 0.7527\n",
            "Epoch 14/50\n",
            "371/374 [============================>.] - ETA: 0s - loss: 0.4722 - accuracy: 0.7817\n",
            "Epoch 00014: accuracy improved from 0.75267 to 0.78075, saving model to best_model.h5\n",
            "374/374 [==============================] - 1s 2ms/step - loss: 0.4718 - accuracy: 0.7807\n",
            "Epoch 15/50\n",
            "350/374 [===========================>..] - ETA: 0s - loss: 0.4571 - accuracy: 0.7614\n",
            "Epoch 00015: accuracy did not improve from 0.78075\n",
            "374/374 [==============================] - 1s 2ms/step - loss: 0.4551 - accuracy: 0.7634\n",
            "Epoch 16/50\n",
            "352/374 [===========================>..] - ETA: 0s - loss: 0.4754 - accuracy: 0.7685\n",
            "Epoch 00016: accuracy did not improve from 0.78075\n",
            "374/374 [==============================] - 1s 2ms/step - loss: 0.4688 - accuracy: 0.7727\n",
            "Epoch 17/50\n",
            "373/374 [============================>.] - ETA: 0s - loss: 0.4364 - accuracy: 0.8016\n",
            "Epoch 00017: accuracy improved from 0.78075 to 0.80214, saving model to best_model.h5\n",
            "374/374 [==============================] - 1s 2ms/step - loss: 0.4364 - accuracy: 0.8021\n",
            "Epoch 18/50\n",
            "368/374 [============================>.] - ETA: 0s - loss: 0.4492 - accuracy: 0.7948\n",
            "Epoch 00018: accuracy did not improve from 0.80214\n",
            "374/374 [==============================] - 1s 2ms/step - loss: 0.4483 - accuracy: 0.7955\n",
            "Epoch 19/50\n",
            "373/374 [============================>.] - ETA: 0s - loss: 0.4164 - accuracy: 0.8110\n",
            "Epoch 00019: accuracy improved from 0.80214 to 0.81150, saving model to best_model.h5\n",
            "374/374 [==============================] - 1s 2ms/step - loss: 0.4161 - accuracy: 0.8115\n",
            "Epoch 20/50\n",
            "353/374 [===========================>..] - ETA: 0s - loss: 0.3902 - accuracy: 0.8300\n",
            "Epoch 00020: accuracy improved from 0.81150 to 0.82620, saving model to best_model.h5\n",
            "374/374 [==============================] - 1s 2ms/step - loss: 0.3954 - accuracy: 0.8262\n",
            "Epoch 21/50\n",
            "374/374 [==============================] - ETA: 0s - loss: 0.3905 - accuracy: 0.8382\n",
            "Epoch 00021: accuracy improved from 0.82620 to 0.83824, saving model to best_model.h5\n",
            "374/374 [==============================] - 1s 2ms/step - loss: 0.3905 - accuracy: 0.8382\n",
            "Epoch 22/50\n",
            "373/374 [============================>.] - ETA: 0s - loss: 0.4176 - accuracy: 0.8123\n",
            "Epoch 00022: accuracy did not improve from 0.83824\n",
            "374/374 [==============================] - 1s 2ms/step - loss: 0.4167 - accuracy: 0.8128\n",
            "Epoch 23/50\n",
            "370/374 [============================>.] - ETA: 0s - loss: 0.3752 - accuracy: 0.8365\n",
            "Epoch 00023: accuracy did not improve from 0.83824\n",
            "374/374 [==============================] - 1s 2ms/step - loss: 0.3793 - accuracy: 0.8356\n",
            "Epoch 24/50\n",
            "372/374 [============================>.] - ETA: 0s - loss: 0.3788 - accuracy: 0.8320\n",
            "Epoch 00024: accuracy did not improve from 0.83824\n",
            "374/374 [==============================] - 1s 2ms/step - loss: 0.3785 - accuracy: 0.8329\n",
            "Epoch 25/50\n",
            "369/374 [============================>.] - ETA: 0s - loss: 0.3764 - accuracy: 0.8374\n",
            "Epoch 00025: accuracy did not improve from 0.83824\n",
            "374/374 [==============================] - 1s 2ms/step - loss: 0.3771 - accuracy: 0.8369\n",
            "Epoch 26/50\n",
            "351/374 [===========================>..] - ETA: 0s - loss: 0.3668 - accuracy: 0.8447\n",
            "Epoch 00026: accuracy improved from 0.83824 to 0.84492, saving model to best_model.h5\n",
            "374/374 [==============================] - 1s 2ms/step - loss: 0.3655 - accuracy: 0.8449\n",
            "Epoch 27/50\n",
            "370/374 [============================>.] - ETA: 0s - loss: 0.3912 - accuracy: 0.8365\n",
            "Epoch 00027: accuracy did not improve from 0.84492\n",
            "374/374 [==============================] - 1s 2ms/step - loss: 0.3908 - accuracy: 0.8356\n",
            "Epoch 28/50\n",
            "359/374 [===========================>..] - ETA: 0s - loss: 0.3726 - accuracy: 0.8329\n",
            "Epoch 00028: accuracy did not improve from 0.84492\n",
            "374/374 [==============================] - 1s 2ms/step - loss: 0.3700 - accuracy: 0.8356\n",
            "Epoch 29/50\n",
            "373/374 [============================>.] - ETA: 0s - loss: 0.3709 - accuracy: 0.8418\n",
            "Epoch 00029: accuracy did not improve from 0.84492\n",
            "374/374 [==============================] - 1s 2ms/step - loss: 0.3701 - accuracy: 0.8422\n",
            "Epoch 30/50\n",
            "365/374 [============================>.] - ETA: 0s - loss: 0.3664 - accuracy: 0.8493\n",
            "Epoch 00030: accuracy did not improve from 0.84492\n",
            "374/374 [==============================] - 1s 2ms/step - loss: 0.3733 - accuracy: 0.8449\n",
            "Epoch 31/50\n",
            "365/374 [============================>.] - ETA: 0s - loss: 0.3532 - accuracy: 0.8562\n",
            "Epoch 00031: accuracy improved from 0.84492 to 0.85963, saving model to best_model.h5\n",
            "374/374 [==============================] - 1s 2ms/step - loss: 0.3499 - accuracy: 0.8596\n",
            "Epoch 32/50\n",
            "365/374 [============================>.] - ETA: 0s - loss: 0.3597 - accuracy: 0.8466\n",
            "Epoch 00032: accuracy did not improve from 0.85963\n",
            "374/374 [==============================] - 1s 2ms/step - loss: 0.3553 - accuracy: 0.8489\n",
            "Epoch 33/50\n",
            "367/374 [============================>.] - ETA: 0s - loss: 0.3436 - accuracy: 0.8447\n",
            "Epoch 00033: accuracy did not improve from 0.85963\n",
            "374/374 [==============================] - 1s 2ms/step - loss: 0.3530 - accuracy: 0.8396\n",
            "Epoch 34/50\n",
            "352/374 [===========================>..] - ETA: 0s - loss: 0.3413 - accuracy: 0.8509\n",
            "Epoch 00034: accuracy did not improve from 0.85963\n",
            "374/374 [==============================] - 1s 2ms/step - loss: 0.3478 - accuracy: 0.8476\n",
            "Epoch 35/50\n",
            "372/374 [============================>.] - ETA: 0s - loss: 0.3512 - accuracy: 0.8454\n",
            "Epoch 00035: accuracy did not improve from 0.85963\n",
            "374/374 [==============================] - 1s 2ms/step - loss: 0.3518 - accuracy: 0.8449\n",
            "Epoch 36/50\n",
            "365/374 [============================>.] - ETA: 0s - loss: 0.3418 - accuracy: 0.8521\n",
            "Epoch 00036: accuracy did not improve from 0.85963\n",
            "374/374 [==============================] - 1s 2ms/step - loss: 0.3449 - accuracy: 0.8503\n",
            "Epoch 37/50\n",
            "356/374 [===========================>..] - ETA: 0s - loss: 0.3378 - accuracy: 0.8596\n",
            "Epoch 00037: accuracy did not improve from 0.85963\n",
            "374/374 [==============================] - 1s 2ms/step - loss: 0.3380 - accuracy: 0.8596\n",
            "Epoch 38/50\n",
            "370/374 [============================>.] - ETA: 0s - loss: 0.3596 - accuracy: 0.8365\n",
            "Epoch 00038: accuracy did not improve from 0.85963\n",
            "374/374 [==============================] - 1s 2ms/step - loss: 0.3572 - accuracy: 0.8382\n",
            "Epoch 39/50\n",
            "369/374 [============================>.] - ETA: 0s - loss: 0.3455 - accuracy: 0.8509\n",
            "Epoch 00039: accuracy did not improve from 0.85963\n",
            "374/374 [==============================] - 1s 2ms/step - loss: 0.3430 - accuracy: 0.8529\n",
            "Epoch 40/50\n",
            "367/374 [============================>.] - ETA: 0s - loss: 0.3677 - accuracy: 0.8433\n",
            "Epoch 00040: accuracy did not improve from 0.85963\n",
            "374/374 [==============================] - 1s 2ms/step - loss: 0.3681 - accuracy: 0.8422\n",
            "Epoch 41/50\n",
            "372/374 [============================>.] - ETA: 0s - loss: 0.3360 - accuracy: 0.8575\n",
            "Epoch 00041: accuracy did not improve from 0.85963\n",
            "374/374 [==============================] - 1s 2ms/step - loss: 0.3377 - accuracy: 0.8556\n",
            "Epoch 42/50\n",
            "353/374 [===========================>..] - ETA: 0s - loss: 0.3492 - accuracy: 0.8484\n",
            "Epoch 00042: accuracy did not improve from 0.85963\n",
            "374/374 [==============================] - 1s 2ms/step - loss: 0.3418 - accuracy: 0.8543\n",
            "Epoch 43/50\n",
            "368/374 [============================>.] - ETA: 0s - loss: 0.3352 - accuracy: 0.8560\n",
            "Epoch 00043: accuracy did not improve from 0.85963\n",
            "374/374 [==============================] - 1s 2ms/step - loss: 0.3395 - accuracy: 0.8529\n",
            "Epoch 44/50\n",
            "372/374 [============================>.] - ETA: 0s - loss: 0.3245 - accuracy: 0.8508\n",
            "Epoch 00044: accuracy did not improve from 0.85963\n",
            "374/374 [==============================] - 1s 2ms/step - loss: 0.3233 - accuracy: 0.8516\n",
            "Epoch 45/50\n",
            "368/374 [============================>.] - ETA: 0s - loss: 0.3436 - accuracy: 0.8438\n",
            "Epoch 00045: accuracy did not improve from 0.85963\n",
            "374/374 [==============================] - 1s 2ms/step - loss: 0.3449 - accuracy: 0.8436\n",
            "Epoch 46/50\n",
            "367/374 [============================>.] - ETA: 0s - loss: 0.3222 - accuracy: 0.8624\n",
            "Epoch 00046: accuracy improved from 0.85963 to 0.86230, saving model to best_model.h5\n",
            "374/374 [==============================] - 1s 2ms/step - loss: 0.3230 - accuracy: 0.8623\n",
            "Epoch 47/50\n",
            "368/374 [============================>.] - ETA: 0s - loss: 0.3193 - accuracy: 0.8519\n",
            "Epoch 00047: accuracy did not improve from 0.86230\n",
            "374/374 [==============================] - 1s 2ms/step - loss: 0.3220 - accuracy: 0.8529\n",
            "Epoch 48/50\n",
            "368/374 [============================>.] - ETA: 0s - loss: 0.3353 - accuracy: 0.8573\n",
            "Epoch 00048: accuracy did not improve from 0.86230\n",
            "374/374 [==============================] - 1s 2ms/step - loss: 0.3397 - accuracy: 0.8529\n",
            "Epoch 49/50\n",
            "350/374 [===========================>..] - ETA: 0s - loss: 0.3210 - accuracy: 0.8571\n",
            "Epoch 00049: accuracy did not improve from 0.86230\n",
            "374/374 [==============================] - 1s 2ms/step - loss: 0.3225 - accuracy: 0.8556\n",
            "Epoch 50/50\n",
            "364/374 [============================>.] - ETA: 0s - loss: 0.3544 - accuracy: 0.8489\n",
            "Epoch 00050: accuracy did not improve from 0.86230\n",
            "374/374 [==============================] - 1s 2ms/step - loss: 0.3528 - accuracy: 0.8503\n"
          ],
          "name": "stdout"
        }
      ]
    },
    {
      "cell_type": "code",
      "metadata": {
        "id": "_wXoYz3yhbHm",
        "outputId": "05cb344d-0030-46df-9208-7e5acc4202bd",
        "colab": {
          "base_uri": "https://localhost:8080/"
        }
      },
      "source": [
        "model.evaluate(X_test,y_test)"
      ],
      "execution_count": 32,
      "outputs": [
        {
          "output_type": "stream",
          "text": [
            "9/9 [==============================] - 0s 3ms/step - loss: 0.3656 - accuracy: 0.8195\n"
          ],
          "name": "stdout"
        },
        {
          "output_type": "execute_result",
          "data": {
            "text/plain": [
              "[0.36563804745674133, 0.8194946050643921]"
            ]
          },
          "metadata": {
            "tags": []
          },
          "execution_count": 32
        }
      ]
    },
    {
      "cell_type": "code",
      "metadata": {
        "id": "xpKytCtnP0yb",
        "outputId": "7facabf5-3e09-409a-db70-e21ab1e2421a",
        "colab": {
          "base_uri": "https://localhost:8080/"
        }
      },
      "source": [
        "model.summary()"
      ],
      "execution_count": 38,
      "outputs": [
        {
          "output_type": "stream",
          "text": [
            "Model: \"sequential_5\"\n",
            "_________________________________________________________________\n",
            "Layer (type)                 Output Shape              Param #   \n",
            "=================================================================\n",
            "dense_29 (Dense)             (None, 50)                700       \n",
            "_________________________________________________________________\n",
            "dense_30 (Dense)             (None, 35)                1785      \n",
            "_________________________________________________________________\n",
            "dense_31 (Dense)             (None, 25)                900       \n",
            "_________________________________________________________________\n",
            "dense_32 (Dense)             (None, 15)                390       \n",
            "_________________________________________________________________\n",
            "dense_33 (Dense)             (None, 7)                 112       \n",
            "_________________________________________________________________\n",
            "dense_34 (Dense)             (None, 1)                 8         \n",
            "=================================================================\n",
            "Total params: 3,895\n",
            "Trainable params: 3,895\n",
            "Non-trainable params: 0\n",
            "_________________________________________________________________\n"
          ],
          "name": "stdout"
        }
      ]
    },
    {
      "cell_type": "code",
      "metadata": {
        "id": "vp6_B3o9hbHq"
      },
      "source": [
        "y_pred = model.predict(X_test)\n",
        "y_pred = np.round(y_pred)"
      ],
      "execution_count": 33,
      "outputs": []
    },
    {
      "cell_type": "code",
      "metadata": {
        "id": "HCHt8kw4h0JP"
      },
      "source": [
        "from sklearn.metrics import confusion_matrix,classification_report"
      ],
      "execution_count": 34,
      "outputs": []
    },
    {
      "cell_type": "code",
      "metadata": {
        "id": "aa-PRKUsQRLG",
        "outputId": "c4387ac6-f819-4b73-fd61-ebfe4c0889e3",
        "colab": {
          "base_uri": "https://localhost:8080/",
          "height": 352
        }
      },
      "source": [
        "confusionMatrix = tf.math.confusion_matrix(labels=y_test, predictions=y_pred)\n",
        "import seaborn as sns\n",
        "plt.figure(figsize=(8,5))\n",
        "sns.heatmap(confusoinMatrix, annot=True, fmt='d')\n",
        "plt.xlabel('Predicted')\n",
        "plt.ylabel('Real Values')"
      ],
      "execution_count": 45,
      "outputs": [
        {
          "output_type": "execute_result",
          "data": {
            "text/plain": [
              "Text(51.0, 0.5, 'Real Values')"
            ]
          },
          "metadata": {
            "tags": []
          },
          "execution_count": 45
        },
        {
          "output_type": "display_data",
          "data": {
            "image/png": "[encoded data removed]",
            "text/plain": [
              "<Figure size 576x360 with 2 Axes>"
            ]
          },
          "metadata": {
            "tags": [],
            "needs_background": "light"
          }
        }
      ]
    },
    {
      "cell_type": "code",
      "metadata": {
        "id": "EW3l-R2oh2i0",
        "outputId": "45b81cbb-b654-4b01-96f7-7e955d2bbe13",
        "colab": {
          "base_uri": "https://localhost:8080/"
        }
      },
      "source": [
        "print(classification_report(y_test,y_pred))"
      ],
      "execution_count": 35,
      "outputs": [
        {
          "output_type": "stream",
          "text": [
            "              precision    recall  f1-score   support\n",
            "\n",
            "           0       0.90      0.73      0.81       143\n",
            "           1       0.76      0.91      0.83       134\n",
            "\n",
            "    accuracy                           0.82       277\n",
            "   macro avg       0.83      0.82      0.82       277\n",
            "weighted avg       0.83      0.82      0.82       277\n",
            "\n"
          ],
          "name": "stdout"
        }
      ]
    },
    {
      "cell_type": "code",
      "metadata": {
        "id": "1xv5NtTUh4hf",
        "outputId": "17c45fdc-c590-4e25-df5f-0bc1530d0c06",
        "colab": {
          "base_uri": "https://localhost:8080/",
          "height": 283
        }
      },
      "source": [
        "plt.plot(r.history[\"loss\"],label=\"loss\")\n",
        "plt.plot(r.history[\"accuracy\"],label=\"accuracy\")\n",
        "plt.legend()"
      ],
      "execution_count": 37,
      "outputs": [
        {
          "output_type": "execute_result",
          "data": {
            "text/plain": [
              "<matplotlib.legend.Legend at 0x7f13217d7710>"
            ]
          },
          "metadata": {
            "tags": []
          },
          "execution_count": 37
        },
        {
          "output_type": "display_data",
          "data": {
            "image/png": "[encoded data removed]",
            "text/plain": [
              "<Figure size 432x288 with 1 Axes>"
            ]
          },
          "metadata": {
            "tags": [],
            "needs_background": "light"
          }
        }
      ]
    }
  ]
}