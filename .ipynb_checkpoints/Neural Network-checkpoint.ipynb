{
 "cells": [
  {
   "cell_type": "code",
   "execution_count": 29,
   "metadata": {},
   "outputs": [],
   "source": [
    "import pandas as pd\n",
    "import numpy as np\n",
    "from sklearn.metrics import r2_score\n",
    "from matplotlib import pyplot as plt\n",
    "\n",
    "%matplotlib inline"
   ]
  },
  {
   "cell_type": "code",
   "execution_count": 30,
   "metadata": {},
   "outputs": [
    {
     "data": {
      "text/html": [
       "<div>\n",
       "<style scoped>\n",
       "    .dataframe tbody tr th:only-of-type {\n",
       "        vertical-align: middle;\n",
       "    }\n",
       "\n",
       "    .dataframe tbody tr th {\n",
       "        vertical-align: top;\n",
       "    }\n",
       "\n",
       "    .dataframe thead th {\n",
       "        text-align: right;\n",
       "    }\n",
       "</style>\n",
       "<table border=\"1\" class=\"dataframe\">\n",
       "  <thead>\n",
       "    <tr style=\"text-align: right;\">\n",
       "      <th></th>\n",
       "      <th>age</th>\n",
       "      <th>sex</th>\n",
       "      <th>cp</th>\n",
       "      <th>trestbps</th>\n",
       "      <th>chol</th>\n",
       "      <th>fbs</th>\n",
       "      <th>restecg</th>\n",
       "      <th>thalach</th>\n",
       "      <th>exang</th>\n",
       "      <th>oldpeak</th>\n",
       "      <th>slope</th>\n",
       "      <th>ca</th>\n",
       "      <th>thal</th>\n",
       "      <th>target</th>\n",
       "    </tr>\n",
       "  </thead>\n",
       "  <tbody>\n",
       "    <tr>\n",
       "      <th>0</th>\n",
       "      <td>52</td>\n",
       "      <td>1</td>\n",
       "      <td>0</td>\n",
       "      <td>125</td>\n",
       "      <td>212</td>\n",
       "      <td>0</td>\n",
       "      <td>1</td>\n",
       "      <td>168</td>\n",
       "      <td>0</td>\n",
       "      <td>1.0</td>\n",
       "      <td>2</td>\n",
       "      <td>2</td>\n",
       "      <td>3</td>\n",
       "      <td>0</td>\n",
       "    </tr>\n",
       "    <tr>\n",
       "      <th>1</th>\n",
       "      <td>53</td>\n",
       "      <td>1</td>\n",
       "      <td>0</td>\n",
       "      <td>140</td>\n",
       "      <td>203</td>\n",
       "      <td>1</td>\n",
       "      <td>0</td>\n",
       "      <td>155</td>\n",
       "      <td>1</td>\n",
       "      <td>3.1</td>\n",
       "      <td>0</td>\n",
       "      <td>0</td>\n",
       "      <td>3</td>\n",
       "      <td>0</td>\n",
       "    </tr>\n",
       "    <tr>\n",
       "      <th>2</th>\n",
       "      <td>70</td>\n",
       "      <td>1</td>\n",
       "      <td>0</td>\n",
       "      <td>145</td>\n",
       "      <td>174</td>\n",
       "      <td>0</td>\n",
       "      <td>1</td>\n",
       "      <td>125</td>\n",
       "      <td>1</td>\n",
       "      <td>2.6</td>\n",
       "      <td>0</td>\n",
       "      <td>0</td>\n",
       "      <td>3</td>\n",
       "      <td>0</td>\n",
       "    </tr>\n",
       "    <tr>\n",
       "      <th>3</th>\n",
       "      <td>61</td>\n",
       "      <td>1</td>\n",
       "      <td>0</td>\n",
       "      <td>148</td>\n",
       "      <td>203</td>\n",
       "      <td>0</td>\n",
       "      <td>1</td>\n",
       "      <td>161</td>\n",
       "      <td>0</td>\n",
       "      <td>0.0</td>\n",
       "      <td>2</td>\n",
       "      <td>1</td>\n",
       "      <td>3</td>\n",
       "      <td>0</td>\n",
       "    </tr>\n",
       "    <tr>\n",
       "      <th>4</th>\n",
       "      <td>62</td>\n",
       "      <td>0</td>\n",
       "      <td>0</td>\n",
       "      <td>138</td>\n",
       "      <td>294</td>\n",
       "      <td>1</td>\n",
       "      <td>1</td>\n",
       "      <td>106</td>\n",
       "      <td>0</td>\n",
       "      <td>1.9</td>\n",
       "      <td>1</td>\n",
       "      <td>3</td>\n",
       "      <td>2</td>\n",
       "      <td>0</td>\n",
       "    </tr>\n",
       "  </tbody>\n",
       "</table>\n",
       "</div>"
      ],
      "text/plain": [
       "   age  sex  cp  trestbps  chol  fbs  restecg  thalach  exang  oldpeak  slope  \\\n",
       "0   52    1   0       125   212    0        1      168      0      1.0      2   \n",
       "1   53    1   0       140   203    1        0      155      1      3.1      0   \n",
       "2   70    1   0       145   174    0        1      125      1      2.6      0   \n",
       "3   61    1   0       148   203    0        1      161      0      0.0      2   \n",
       "4   62    0   0       138   294    1        1      106      0      1.9      1   \n",
       "\n",
       "   ca  thal  target  \n",
       "0   2     3       0  \n",
       "1   0     3       0  \n",
       "2   0     3       0  \n",
       "3   1     3       0  \n",
       "4   3     2       0  "
      ]
     },
     "execution_count": 30,
     "metadata": {},
     "output_type": "execute_result"
    }
   ],
   "source": [
    "dataset = pd.read_csv(\"heart.csv\")\n",
    "dataset.head()"
   ]
  },
  {
   "cell_type": "code",
   "execution_count": 31,
   "metadata": {},
   "outputs": [],
   "source": [
    "X = dataset.drop('target',axis=1)\n",
    "y = dataset['target']"
   ]
  },
  {
   "cell_type": "code",
   "execution_count": 32,
   "metadata": {},
   "outputs": [],
   "source": [
    "from sklearn.model_selection import train_test_split"
   ]
  },
  {
   "cell_type": "code",
   "execution_count": 33,
   "metadata": {},
   "outputs": [],
   "source": [
    "X_train, X_test, y_train, y_test = train_test_split(X, y, test_size=0.27, random_state=42)"
   ]
  },
  {
   "cell_type": "code",
   "execution_count": 34,
   "metadata": {},
   "outputs": [],
   "source": [
    "import tensorflow as tf\n",
    "import keras"
   ]
  },
  {
   "cell_type": "code",
   "execution_count": 35,
   "metadata": {},
   "outputs": [
    {
     "data": {
      "text/plain": [
       "((748, 13), (277, 13))"
      ]
     },
     "execution_count": 35,
     "metadata": {},
     "output_type": "execute_result"
    }
   ],
   "source": [
    "X_train.shape, X_test.shape"
   ]
  },
  {
   "cell_type": "code",
   "execution_count": 36,
   "metadata": {},
   "outputs": [
    {
     "name": "stdout",
     "output_type": "stream",
     "text": [
      "Epoch 1/50\n",
      "374/374 [==============================] - 1s 4ms/step - loss: 1.1883 - accuracy: 0.5695\n",
      "Epoch 2/50\n",
      "374/374 [==============================] - 1s 4ms/step - loss: 0.5840 - accuracy: 0.7219\n",
      "Epoch 3/50\n",
      "374/374 [==============================] - 1s 4ms/step - loss: 0.5846 - accuracy: 0.7019\n",
      "Epoch 4/50\n",
      "374/374 [==============================] - 1s 3ms/step - loss: 0.5890 - accuracy: 0.7286\n",
      "Epoch 5/50\n",
      "374/374 [==============================] - 2s 5ms/step - loss: 0.5365 - accuracy: 0.7487\n",
      "Epoch 6/50\n",
      "374/374 [==============================] - 1s 3ms/step - loss: 0.4934 - accuracy: 0.7594\n",
      "Epoch 7/50\n",
      "374/374 [==============================] - 1s 3ms/step - loss: 0.4755 - accuracy: 0.7794\n",
      "Epoch 8/50\n",
      "374/374 [==============================] - 2s 4ms/step - loss: 0.4634 - accuracy: 0.7821\n",
      "Epoch 9/50\n",
      "374/374 [==============================] - 1s 3ms/step - loss: 0.4424 - accuracy: 0.7714\n",
      "Epoch 10/50\n",
      "374/374 [==============================] - 1s 3ms/step - loss: 0.4309 - accuracy: 0.8021\n",
      "Epoch 11/50\n",
      "374/374 [==============================] - 1s 3ms/step - loss: 0.4198 - accuracy: 0.8048\n",
      "Epoch 12/50\n",
      "374/374 [==============================] - 1s 3ms/step - loss: 0.4153 - accuracy: 0.8115\n",
      "Epoch 13/50\n",
      "374/374 [==============================] - 1s 3ms/step - loss: 0.4202 - accuracy: 0.8155\n",
      "Epoch 14/50\n",
      "374/374 [==============================] - 1s 3ms/step - loss: 0.4125 - accuracy: 0.8235\n",
      "Epoch 15/50\n",
      "374/374 [==============================] - 1s 3ms/step - loss: 0.4057 - accuracy: 0.8222\n",
      "Epoch 16/50\n",
      "374/374 [==============================] - 1s 3ms/step - loss: 0.4107 - accuracy: 0.8275\n",
      "Epoch 17/50\n",
      "374/374 [==============================] - 1s 3ms/step - loss: 0.3958 - accuracy: 0.8262\n",
      "Epoch 18/50\n",
      "374/374 [==============================] - 1s 3ms/step - loss: 0.3866 - accuracy: 0.8356\n",
      "Epoch 19/50\n",
      "374/374 [==============================] - 1s 3ms/step - loss: 0.3953 - accuracy: 0.8142\n",
      "Epoch 20/50\n",
      "374/374 [==============================] - 1s 2ms/step - loss: 0.4030 - accuracy: 0.8262\n",
      "Epoch 21/50\n",
      "374/374 [==============================] - 1s 3ms/step - loss: 0.3745 - accuracy: 0.8436\n",
      "Epoch 22/50\n",
      "374/374 [==============================] - 1s 3ms/step - loss: 0.3958 - accuracy: 0.8369\n",
      "Epoch 23/50\n",
      "374/374 [==============================] - 1s 3ms/step - loss: 0.3883 - accuracy: 0.8289\n",
      "Epoch 24/50\n",
      "374/374 [==============================] - 1s 3ms/step - loss: 0.3863 - accuracy: 0.8342\n",
      "Epoch 25/50\n",
      "374/374 [==============================] - 1s 3ms/step - loss: 0.3968 - accuracy: 0.8302\n",
      "Epoch 26/50\n",
      "374/374 [==============================] - 1s 3ms/step - loss: 0.4009 - accuracy: 0.8088\n",
      "Epoch 27/50\n",
      "374/374 [==============================] - 1s 3ms/step - loss: 0.3865 - accuracy: 0.8463\n",
      "Epoch 28/50\n",
      "374/374 [==============================] - 1s 3ms/step - loss: 0.3694 - accuracy: 0.8342\n",
      "Epoch 29/50\n",
      "374/374 [==============================] - 1s 3ms/step - loss: 0.3857 - accuracy: 0.8289\n",
      "Epoch 30/50\n",
      "374/374 [==============================] - 1s 3ms/step - loss: 0.3785 - accuracy: 0.8489\n",
      "Epoch 31/50\n",
      "374/374 [==============================] - 1s 3ms/step - loss: 0.3859 - accuracy: 0.8209\n",
      "Epoch 32/50\n",
      "374/374 [==============================] - 1s 4ms/step - loss: 0.3784 - accuracy: 0.8463\n",
      "Epoch 33/50\n",
      "374/374 [==============================] - 2s 4ms/step - loss: 0.3725 - accuracy: 0.8409\n",
      "Epoch 34/50\n",
      "374/374 [==============================] - 2s 4ms/step - loss: 0.3867 - accuracy: 0.8249\n",
      "Epoch 35/50\n",
      "374/374 [==============================] - 2s 4ms/step - loss: 0.3697 - accuracy: 0.8369\n",
      "Epoch 36/50\n",
      "374/374 [==============================] - 2s 4ms/step - loss: 0.3745 - accuracy: 0.8436\n",
      "Epoch 37/50\n",
      "374/374 [==============================] - 1s 4ms/step - loss: 0.3938 - accuracy: 0.8382\n",
      "Epoch 38/50\n",
      "374/374 [==============================] - 2s 4ms/step - loss: 0.3541 - accuracy: 0.8489\n",
      "Epoch 39/50\n",
      "374/374 [==============================] - 1s 3ms/step - loss: 0.3638 - accuracy: 0.8396\n",
      "Epoch 40/50\n",
      "374/374 [==============================] - 1s 3ms/step - loss: 0.3587 - accuracy: 0.8596\n",
      "Epoch 41/50\n",
      "374/374 [==============================] - 1s 4ms/step - loss: 0.3491 - accuracy: 0.8436\n",
      "Epoch 42/50\n",
      "374/374 [==============================] - 2s 5ms/step - loss: 0.3432 - accuracy: 0.8463\n",
      "Epoch 43/50\n",
      "374/374 [==============================] - 2s 4ms/step - loss: 0.3434 - accuracy: 0.8570\n",
      "Epoch 44/50\n",
      "374/374 [==============================] - 2s 5ms/step - loss: 0.3490 - accuracy: 0.8422\n",
      "Epoch 45/50\n",
      "374/374 [==============================] - 1s 4ms/step - loss: 0.3500 - accuracy: 0.8529\n",
      "Epoch 46/50\n",
      "374/374 [==============================] - 1s 3ms/step - loss: 0.3564 - accuracy: 0.8316\n",
      "Epoch 47/50\n",
      "374/374 [==============================] - 1s 3ms/step - loss: 0.3495 - accuracy: 0.8503\n",
      "Epoch 48/50\n",
      "374/374 [==============================] - 1s 3ms/step - loss: 0.3788 - accuracy: 0.8449\n",
      "Epoch 49/50\n",
      "374/374 [==============================] - 1s 3ms/step - loss: 0.3356 - accuracy: 0.8623\n",
      "Epoch 50/50\n",
      "374/374 [==============================] - 1s 3ms/step - loss: 0.3559 - accuracy: 0.8583\n"
     ]
    },
    {
     "data": {
      "text/plain": [
       "<tensorflow.python.keras.callbacks.History at 0x7fb8982f8400>"
      ]
     },
     "execution_count": 36,
     "metadata": {},
     "output_type": "execute_result"
    }
   ],
   "source": [
    "model = keras.Sequential([\n",
    "    keras.layers.Dense(30,input_shape=(13,), activation='relu'),\n",
    "    keras.layers.Dense(15, activation='relu'),\n",
    "    keras.layers.Dense(7, activation='relu'),\n",
    "    keras.layers.Dense(1, activation='sigmoid')\n",
    "])\n",
    "\n",
    "model.compile(loss='binary_crossentropy', \n",
    "    optimizer='adam', \n",
    "    metrics=['accuracy']\n",
    ")\n",
    "\n",
    "# mini batch gradient descent\n",
    "model.fit(X_train,y_train,epochs=50, batch_size=2)"
   ]
  },
  {
   "cell_type": "code",
   "execution_count": 37,
   "metadata": {},
   "outputs": [
    {
     "name": "stdout",
     "output_type": "stream",
     "text": [
      "9/9 [==============================] - 0s 6ms/step - loss: 0.3881 - accuracy: 0.8339\n"
     ]
    },
    {
     "data": {
      "text/plain": [
       "[0.388132244348526, 0.833935022354126]"
      ]
     },
     "execution_count": 37,
     "metadata": {},
     "output_type": "execute_result"
    }
   ],
   "source": [
    "model.evaluate(X_test,y_test)"
   ]
  },
  {
   "cell_type": "code",
   "execution_count": 38,
   "metadata": {},
   "outputs": [],
   "source": [
    "y_pred = model.predict(X_test)\n",
    "y_pred = np.round(y_pred)"
   ]
  },
  {
   "cell_type": "code",
   "execution_count": 39,
   "metadata": {},
   "outputs": [],
   "source": [
    "from sklearn.metrics import confusion_matrix,classification_report"
   ]
  },
  {
   "cell_type": "code",
   "execution_count": 40,
   "metadata": {},
   "outputs": [
    {
     "name": "stdout",
     "output_type": "stream",
     "text": [
      "              precision    recall  f1-score   support\n",
      "\n",
      "           0       0.89      0.77      0.83       143\n",
      "           1       0.79      0.90      0.84       134\n",
      "\n",
      "    accuracy                           0.83       277\n",
      "   macro avg       0.84      0.84      0.83       277\n",
      "weighted avg       0.84      0.83      0.83       277\n",
      "\n"
     ]
    }
   ],
   "source": [
    "print(classification_report(y_test,y_pred))"
   ]
  },
  {
   "cell_type": "code",
   "execution_count": null,
   "metadata": {},
   "outputs": [],
   "source": []
  }
 ],
 "metadata": {
  "kernelspec": {
   "display_name": "Python 3",
   "language": "python",
   "name": "python3"
  },
  "language_info": {
   "codemirror_mode": {
    "name": "ipython",
    "version": 3
   },
   "file_extension": ".py",
   "mimetype": "text/x-python",
   "name": "python",
   "nbconvert_exporter": "python",
   "pygments_lexer": "ipython3",
   "version": "3.8.3"
  }
 },
 "nbformat": 4,
 "nbformat_minor": 4
}
